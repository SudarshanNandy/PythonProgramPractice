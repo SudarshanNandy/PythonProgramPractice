{
  "cells": [
    {
      "cell_type": "code",
      "execution_count": null,
      "id": "9821a1cd",
      "metadata": {
        "id": "9821a1cd",
        "outputId": "3de6df7c-d3fe-4daf-a7c3-bde41d91da69"
      },
      "outputs": [
        {
          "name": "stdout",
          "output_type": "stream",
          "text": [
            "2\n",
            "3\n",
            "Add= 5\n"
          ]
        }
      ],
      "source": [
        "#1. write a python program to add two numbers\n",
        "x = eval(input())\n",
        "y= eval(input())\n",
        "print(\"Add=\", x+y)\n"
      ]
    },
    {
      "cell_type": "code",
      "execution_count": null,
      "id": "a260f14e",
      "metadata": {
        "id": "a260f14e",
        "outputId": "7e66be06-36c3-4912-a9ea-6e69c1f82078"
      },
      "outputs": [
        {
          "name": "stdout",
          "output_type": "stream",
          "text": [
            "2\n",
            "3\n",
            "3\n",
            "d\n",
            "add= 8\n"
          ]
        }
      ],
      "source": [
        "#using n th input of numbers for addition and terminate by entering any charater in between [a-z].\n",
        "import string\n",
        "v = []\n",
        "while True:\n",
        "    n = input()\n",
        "    if str(n) not in string.ascii_lowercase:\n",
        "        v.append(int(n))\n",
        "    else:\n",
        "        break\n",
        "print(\"add=\", sum(v))"
      ]
    },
    {
      "cell_type": "code",
      "execution_count": null,
      "id": "808bb487",
      "metadata": {
        "id": "808bb487",
        "outputId": "917aea47-49b8-46d6-c247-03e9af90f6a3"
      },
      "outputs": [
        {
          "name": "stdout",
          "output_type": "stream",
          "text": [
            "12\n",
            "13\n",
            "ADD= 25\n"
          ]
        }
      ],
      "source": [
        "#using function\n",
        "\n",
        "def add1(x,y):\n",
        "    return x+y\n",
        "x = eval(input())\n",
        "y= eval(input())\n",
        "print(\"ADD=\", add1(x, y))"
      ]
    },
    {
      "cell_type": "code",
      "execution_count": null,
      "id": "2ab33fb7",
      "metadata": {
        "id": "2ab33fb7",
        "outputId": "2f3c2329-3d1a-4ded-f6c7-21b20f2f156d"
      },
      "outputs": [
        {
          "name": "stdout",
          "output_type": "stream",
          "text": [
            "2\n",
            "Square root= 4\n"
          ]
        }
      ],
      "source": [
        "#2.Write a python program to calculate the square root of any number.\n",
        "print(\"Square root=\", eval(input())**2)"
      ]
    },
    {
      "cell_type": "code",
      "execution_count": null,
      "id": "87fa544b",
      "metadata": {
        "id": "87fa544b",
        "outputId": "363776d5-5c67-41f8-f0bd-5af1d484775d"
      },
      "outputs": [
        {
          "name": "stdout",
          "output_type": "stream",
          "text": [
            "3\n",
            "Cube of the number= 27\n"
          ]
        }
      ],
      "source": [
        "#3.Write a python program to find the cube of any given number.\n",
        "print(\"Cube of the number=\", eval(input())**3)"
      ]
    },
    {
      "cell_type": "code",
      "execution_count": null,
      "id": "75ecdae5",
      "metadata": {
        "id": "75ecdae5",
        "outputId": "3bd5d1f0-81bb-4f1e-f183-f9298dbdd80c"
      },
      "outputs": [
        {
          "name": "stdout",
          "output_type": "stream",
          "text": [
            "Enter your choice\t1. KM to M \n",
            "\t\t\t 2.M to KM\n",
            "1\n",
            "234\n",
            "KM-M= 234000\n"
          ]
        }
      ],
      "source": [
        "#4. Write a python program to convert kilometer to meter and vice versa.\n",
        "print(\"Enter your choice\\t1. KM to M \\n\\t\\t\\t 2.M to KM\")\n",
        "ch=eval(input())\n",
        "print(\"KM-M=\", eval(input())*1000) if ch==1 else(print(\"KM-M=\", eval(input())*0.001) if ch == 2 else 0)"
      ]
    },
    {
      "cell_type": "code",
      "source": [
        "#5.Wrtie a python progrma to check the given number is positive or negative or zero \n",
        "n= eval(input())\n",
        "print(\"ZERO\") if n==0 else(print(\"+ve\") if n >0 else (print(\"-ve\") if n <0 else 0))"
      ],
      "metadata": {
        "id": "Bxy2zCW6J85B"
      },
      "id": "Bxy2zCW6J85B",
      "execution_count": null,
      "outputs": []
    },
    {
      "cell_type": "code",
      "source": [
        "#6.Write a python program to convert the tempareture from centigrade to fahrenheit and vice versa.\n",
        "\n",
        "def f_to_c(temp):\n",
        "  return ((temp-32)*5)/9\n",
        "def c_to_f(temp):\n",
        "  return ((c*9)/5)+32\n",
        "ch=eval(input(\"\\t\\t1.centigrade to fahrenheit\\n\\t\\t2.Fahrenheit to Centigrade\\t\\t\\n:\"  ))\n",
        "temp = eval(input(\"\\nTempareture=\"))\n",
        "print(\"Temp. in C=\", f_to_c(temp)) if ch==1 else (print(\"Temp. in F=\", c_to_f(temp))if ch ==2 else 0)\n",
        "\n",
        "\n",
        "\n"
      ],
      "metadata": {
        "id": "sk5TgXWnKhvR",
        "outputId": "ab7ca3a0-4158-4e92-a91a-e0fd698e6319",
        "colab": {
          "base_uri": "https://localhost:8080/"
        }
      },
      "id": "sk5TgXWnKhvR",
      "execution_count": 8,
      "outputs": [
        {
          "output_type": "stream",
          "name": "stdout",
          "text": [
            "\t\t1.centigrade to fahrenheit\n",
            "\t\t2.Fahrenheit to Centigrade\t\t\n",
            ":1\n",
            "\n",
            "Tempareture=23.4\n",
            "Temp. in C= -4.777777777777779\n"
          ]
        }
      ]
    }
  ],
  "metadata": {
    "kernelspec": {
      "display_name": "Python 3 (ipykernel)",
      "language": "python",
      "name": "python3"
    },
    "language_info": {
      "codemirror_mode": {
        "name": "ipython",
        "version": 3
      },
      "file_extension": ".py",
      "mimetype": "text/x-python",
      "name": "python",
      "nbconvert_exporter": "python",
      "pygments_lexer": "ipython3",
      "version": "3.9.12"
    },
    "colab": {
      "provenance": []
    }
  },
  "nbformat": 4,
  "nbformat_minor": 5
}