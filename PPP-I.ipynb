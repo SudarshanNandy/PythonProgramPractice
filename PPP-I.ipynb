{
 "cells": [
  {
   "cell_type": "code",
   "execution_count": 1,
   "id": "9821a1cd",
   "metadata": {},
   "outputs": [
    {
     "name": "stdout",
     "output_type": "stream",
     "text": [
      "2\n",
      "3\n",
      "Add= 5\n"
     ]
    }
   ],
   "source": [
    "#1. write a python program to add two numbers\n",
    "x = eval(input())\n",
    "y= eval(input())\n",
    "print(\"Add=\", x+y)\n"
   ]
  },
  {
   "cell_type": "code",
   "execution_count": 8,
   "id": "a260f14e",
   "metadata": {},
   "outputs": [
    {
     "name": "stdout",
     "output_type": "stream",
     "text": [
      "2\n",
      "3\n",
      "3\n",
      "d\n",
      "add= 8\n"
     ]
    }
   ],
   "source": [
    "#using n th input of numbers for addition and terminate by entering any charater in between [a-z].\n",
    "import string\n",
    "v = []\n",
    "while True:\n",
    "    n = input()\n",
    "    if str(n) not in string.ascii_lowercase:\n",
    "        v.append(int(n))\n",
    "    else:\n",
    "        break\n",
    "print(\"add=\", sum(v))"
   ]
  },
  {
   "cell_type": "code",
   "execution_count": 4,
   "id": "808bb487",
   "metadata": {},
   "outputs": [
    {
     "name": "stdout",
     "output_type": "stream",
     "text": [
      "12\n",
      "13\n",
      "ADD= 25\n"
     ]
    }
   ],
   "source": [
    "#using function\n",
    "\n",
    "def add1(x,y):\n",
    "    return x+y\n",
    "x = eval(input())\n",
    "y= eval(input())\n",
    "print(\"ADD=\", add1(x, y))"
   ]
  },
  {
   "cell_type": "code",
   "execution_count": 9,
   "id": "2ab33fb7",
   "metadata": {},
   "outputs": [
    {
     "name": "stdout",
     "output_type": "stream",
     "text": [
      "2\n",
      "Square root= 4\n"
     ]
    }
   ],
   "source": [
    "#2.Write a python program to calculate the square root of any number.\n",
    "print(\"Square root=\", eval(input())**2)"
   ]
  },
  {
   "cell_type": "code",
   "execution_count": 10,
   "id": "87fa544b",
   "metadata": {},
   "outputs": [
    {
     "name": "stdout",
     "output_type": "stream",
     "text": [
      "3\n",
      "Cube of the number= 27\n"
     ]
    }
   ],
   "source": [
    "#3.Write a python program to find the cube of any given number.\n",
    "print(\"Cube of the number=\", eval(input())**3)"
   ]
  },
  {
   "cell_type": "code",
   "execution_count": 16,
   "id": "75ecdae5",
   "metadata": {},
   "outputs": [
    {
     "name": "stdout",
     "output_type": "stream",
     "text": [
      "Enter your choice\t1. KM to M \n",
      "\t\t\t 2.M to KM\n",
      "1\n",
      "234\n",
      "KM-M= 234000\n"
     ]
    }
   ],
   "source": [
    "#Write a python program to convert kilometer to meter and vice versa.\n",
    "print(\"Enter your choice\\t1. KM to M \\n\\t\\t\\t 2.M to KM\")\n",
    "ch=eval(input())\n",
    "print(\"KM-M=\", eval(input())*1000) if ch==1 else(print(\"KM-M=\", eval(input())*0.001) if ch == 2 else 0)"
   ]
  }
 ],
 "metadata": {
  "kernelspec": {
   "display_name": "Python 3 (ipykernel)",
   "language": "python",
   "name": "python3"
  },
  "language_info": {
   "codemirror_mode": {
    "name": "ipython",
    "version": 3
   },
   "file_extension": ".py",
   "mimetype": "text/x-python",
   "name": "python",
   "nbconvert_exporter": "python",
   "pygments_lexer": "ipython3",
   "version": "3.9.12"
  }
 },
 "nbformat": 4,
 "nbformat_minor": 5
}
